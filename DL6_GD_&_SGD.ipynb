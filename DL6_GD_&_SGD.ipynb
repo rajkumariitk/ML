{
  "nbformat": 4,
  "nbformat_minor": 0,
  "metadata": {
    "colab": {
      "name": "DL6_GD & SGD.ipynb",
      "provenance": [],
      "authorship_tag": "ABX9TyN3ilGHHWxVelcHrUmMwazl",
      "include_colab_link": true
    },
    "kernelspec": {
      "name": "python3",
      "display_name": "Python 3"
    },
    "language_info": {
      "name": "python"
    }
  },
  "cells": [
    {
      "cell_type": "markdown",
      "metadata": {
        "id": "view-in-github",
        "colab_type": "text"
      },
      "source": [
        "<a href=\"https://colab.research.google.com/github/rjkryv/ML/blob/main/DL6_GD_%26_SGD.ipynb\" target=\"_parent\"><img src=\"https://colab.research.google.com/assets/colab-badge.svg\" alt=\"Open In Colab\"/></a>"
      ]
    },
    {
      "cell_type": "code",
      "metadata": {
        "id": "FfbZKZkzGS0b"
      },
      "source": [
        "import pandas as pd\n",
        "import numpy as np\n",
        "from matplotlib import pyplot as plt\n",
        "%matplotlib inline"
      ],
      "execution_count": 1,
      "outputs": []
    },
    {
      "cell_type": "code",
      "metadata": {
        "id": "Q8drr8e1UC-l"
      },
      "source": [
        "df = pd.read_csv('/content/homeprices_banglore.csv')"
      ],
      "execution_count": 2,
      "outputs": []
    },
    {
      "cell_type": "code",
      "metadata": {
        "id": "Zsg63ZNDUOXA",
        "colab": {
          "base_uri": "https://localhost:8080/",
          "height": 204
        },
        "outputId": "f6464488-e818-4dab-d633-771c3e292508"
      },
      "source": [
        "df.head()"
      ],
      "execution_count": 3,
      "outputs": [
        {
          "output_type": "execute_result",
          "data": {
            "text/html": [
              "<div>\n",
              "<style scoped>\n",
              "    .dataframe tbody tr th:only-of-type {\n",
              "        vertical-align: middle;\n",
              "    }\n",
              "\n",
              "    .dataframe tbody tr th {\n",
              "        vertical-align: top;\n",
              "    }\n",
              "\n",
              "    .dataframe thead th {\n",
              "        text-align: right;\n",
              "    }\n",
              "</style>\n",
              "<table border=\"1\" class=\"dataframe\">\n",
              "  <thead>\n",
              "    <tr style=\"text-align: right;\">\n",
              "      <th></th>\n",
              "      <th>area</th>\n",
              "      <th>bedrooms</th>\n",
              "      <th>price</th>\n",
              "    </tr>\n",
              "  </thead>\n",
              "  <tbody>\n",
              "    <tr>\n",
              "      <th>0</th>\n",
              "      <td>1056</td>\n",
              "      <td>2</td>\n",
              "      <td>39.07</td>\n",
              "    </tr>\n",
              "    <tr>\n",
              "      <th>1</th>\n",
              "      <td>2600</td>\n",
              "      <td>4</td>\n",
              "      <td>120.00</td>\n",
              "    </tr>\n",
              "    <tr>\n",
              "      <th>2</th>\n",
              "      <td>1440</td>\n",
              "      <td>3</td>\n",
              "      <td>62.00</td>\n",
              "    </tr>\n",
              "    <tr>\n",
              "      <th>3</th>\n",
              "      <td>1521</td>\n",
              "      <td>3</td>\n",
              "      <td>75.00</td>\n",
              "    </tr>\n",
              "    <tr>\n",
              "      <th>4</th>\n",
              "      <td>1200</td>\n",
              "      <td>2</td>\n",
              "      <td>51.00</td>\n",
              "    </tr>\n",
              "  </tbody>\n",
              "</table>\n",
              "</div>"
            ],
            "text/plain": [
              "   area  bedrooms   price\n",
              "0  1056         2   39.07\n",
              "1  2600         4  120.00\n",
              "2  1440         3   62.00\n",
              "3  1521         3   75.00\n",
              "4  1200         2   51.00"
            ]
          },
          "metadata": {
            "tags": []
          },
          "execution_count": 3
        }
      ]
    },
    {
      "cell_type": "code",
      "metadata": {
        "colab": {
          "base_uri": "https://localhost:8080/"
        },
        "id": "blmX_av_GdVQ",
        "outputId": "0630c0e5-6d5e-412e-f791-b6f7db21f1c4"
      },
      "source": [
        "df.shape[0]"
      ],
      "execution_count": 4,
      "outputs": [
        {
          "output_type": "execute_result",
          "data": {
            "text/plain": [
              "20"
            ]
          },
          "metadata": {
            "tags": []
          },
          "execution_count": 4
        }
      ]
    },
    {
      "cell_type": "code",
      "metadata": {
        "colab": {
          "base_uri": "https://localhost:8080/"
        },
        "id": "DzxRNiFeC_0f",
        "outputId": "8f7dce65-2325-468c-a960-4576d61c6539"
      },
      "source": [
        "from sklearn import preprocessing \n",
        "sx = preprocessing.MinMaxScaler()\n",
        "sy = preprocessing.MinMaxScaler()\n",
        "\n",
        "scaled_X = sx.fit_transform(df.drop('price',axis = 'columns'))\n",
        "scaled_y = sy.fit_transform(df['price'].values.reshape(df.shape[0],1))\n",
        "\n",
        "scaled_X"
      ],
      "execution_count": 5,
      "outputs": [
        {
          "output_type": "execute_result",
          "data": {
            "text/plain": [
              "array([[0.08827586, 0.25      ],\n",
              "       [0.62068966, 0.75      ],\n",
              "       [0.22068966, 0.5       ],\n",
              "       [0.24862069, 0.5       ],\n",
              "       [0.13793103, 0.25      ],\n",
              "       [0.12758621, 0.25      ],\n",
              "       [0.6662069 , 0.75      ],\n",
              "       [0.86206897, 0.75      ],\n",
              "       [0.17586207, 0.5       ],\n",
              "       [1.        , 1.        ],\n",
              "       [0.34482759, 0.5       ],\n",
              "       [0.68448276, 0.75      ],\n",
              "       [0.06896552, 0.25      ],\n",
              "       [0.10344828, 0.25      ],\n",
              "       [0.5       , 0.5       ],\n",
              "       [0.12931034, 0.25      ],\n",
              "       [0.13103448, 0.5       ],\n",
              "       [0.25517241, 0.5       ],\n",
              "       [0.67931034, 0.5       ],\n",
              "       [0.        , 0.        ]])"
            ]
          },
          "metadata": {
            "tags": []
          },
          "execution_count": 5
        }
      ]
    },
    {
      "cell_type": "code",
      "metadata": {
        "colab": {
          "base_uri": "https://localhost:8080/"
        },
        "id": "xYUinLi4FqyL",
        "outputId": "6e72da5a-f6d4-4827-c581-a68914b8d725"
      },
      "source": [
        "scaled_y"
      ],
      "execution_count": 6,
      "outputs": [
        {
          "output_type": "execute_result",
          "data": {
            "text/plain": [
              "array([[0.05237037],\n",
              "       [0.65185185],\n",
              "       [0.22222222],\n",
              "       [0.31851852],\n",
              "       [0.14074074],\n",
              "       [0.04444444],\n",
              "       [0.76296296],\n",
              "       [0.91111111],\n",
              "       [0.13333333],\n",
              "       [1.        ],\n",
              "       [0.37037037],\n",
              "       [0.8       ],\n",
              "       [0.04444444],\n",
              "       [0.05925926],\n",
              "       [0.51111111],\n",
              "       [0.07407407],\n",
              "       [0.11851852],\n",
              "       [0.20740741],\n",
              "       [0.51851852],\n",
              "       [0.        ]])"
            ]
          },
          "metadata": {
            "tags": []
          },
          "execution_count": 6
        }
      ]
    },
    {
      "cell_type": "code",
      "metadata": {
        "id": "92d9s_9XImNf"
      },
      "source": [
        "scaled_y = scaled_y.reshape(20,)"
      ],
      "execution_count": 7,
      "outputs": []
    },
    {
      "cell_type": "code",
      "metadata": {
        "id": "I96egPQ_I3Y0"
      },
      "source": [
        ""
      ],
      "execution_count": 7,
      "outputs": []
    },
    {
      "cell_type": "markdown",
      "metadata": {
        "id": "Pj-VewXJI5zx"
      },
      "source": [
        "price = w1*area + w2*bedrooms + bias "
      ]
    },
    {
      "cell_type": "code",
      "metadata": {
        "id": "8SXhTJM3ZgBc"
      },
      "source": [
        ""
      ],
      "execution_count": 7,
      "outputs": []
    },
    {
      "cell_type": "code",
      "metadata": {
        "id": "sxrpqnQTJEYE"
      },
      "source": [
        "def batch_gradient_descent(X,y_true,epochs,learning_rate = 0.01):\n",
        "  number_of_features = X.shape[1]\n",
        "\n",
        "  w = np.ones(shape = (number_of_features))\n",
        "  b = 0\n",
        "  total_samples = X.shape[0]\n",
        "\n",
        "  cost_list = []\n",
        "  epoch_list = []\n",
        "\n",
        "  for i in range(epochs):\n",
        "    y_predicted = np.dot(w,X.T) + b\n",
        "\n",
        "    w_grad = -(2/total_samples)*(np.dot(X.T,(y_true-y_predicted)))\n",
        "    b_grad = -(2/total_samples)*np.sum(y_true-y_predicted)\n",
        "\n",
        "    w = w- learning_rate*w_grad\n",
        "    b = b-learning_rate*b_grad\n",
        "\n",
        "    cost = np.mean(np.square(y_true- y_predicted))\n",
        "\n",
        "# MSE (Mean Squared Error)\n",
        "    if i % 10 ==0:\n",
        "      cost_list.append(cost)\n",
        "      epoch_list.append(i)\n",
        "\n",
        "  return w,b,cost,cost_list,epoch_list\n"
      ],
      "execution_count": 8,
      "outputs": []
    },
    {
      "cell_type": "code",
      "metadata": {
        "id": "dr7IXHqANHrr"
      },
      "source": [
        "w,b,cost,cost_list,epoch_list = batch_gradient_descent(scaled_X,scaled_y,500)"
      ],
      "execution_count": 9,
      "outputs": []
    },
    {
      "cell_type": "code",
      "metadata": {
        "colab": {
          "base_uri": "https://localhost:8080/"
        },
        "id": "zhs3o24gNxz-",
        "outputId": "409ada08-1562-42bb-aa7f-598f5291355e"
      },
      "source": [
        "w,b,cost"
      ],
      "execution_count": 10,
      "outputs": [
        {
          "output_type": "execute_result",
          "data": {
            "text/plain": [
              "(array([0.70712464, 0.67456527]), -0.23034857438407427, 0.0068641890429808105)"
            ]
          },
          "metadata": {
            "tags": []
          },
          "execution_count": 10
        }
      ]
    },
    {
      "cell_type": "code",
      "metadata": {
        "colab": {
          "base_uri": "https://localhost:8080/"
        },
        "id": "WFZ8AcpGdrdI",
        "outputId": "748597fc-dcb4-4d15-f3e6-18cbd7c81ff9"
      },
      "source": [
        "cost_list"
      ],
      "execution_count": 11,
      "outputs": [
        {
          "output_type": "execute_result",
          "data": {
            "text/plain": [
              "[0.2768777174681,\n",
              " 0.16573507027671064,\n",
              " 0.10212908135956808,\n",
              " 0.06564235879682481,\n",
              " 0.04463022365578522,\n",
              " 0.03245122421764872,\n",
              " 0.025317339083010492,\n",
              " 0.021067914076635823,\n",
              " 0.01847041893523527,\n",
              " 0.016821657535428185,\n",
              " 0.015720331469182485,\n",
              " 0.014937329116527901,\n",
              " 0.014341749105819087,\n",
              " 0.0138587099774241,\n",
              " 0.013445288028074867,\n",
              " 0.013076793952344979,\n",
              " 0.012738945874049962,\n",
              " 0.012423405193086517,\n",
              " 0.012125230310262438,\n",
              " 0.011841424159334757,\n",
              " 0.011570105565415722,\n",
              " 0.011310036391930275,\n",
              " 0.01106035160957391,\n",
              " 0.010820405104702651,\n",
              " 0.010589681505198633,\n",
              " 0.010367745666240432,\n",
              " 0.010154213642862602,\n",
              " 0.009948735925187012,\n",
              " 0.009750987675343718,\n",
              " 0.009560662965348804,\n",
              " 0.009377471304274599,\n",
              " 0.009201135478234784,\n",
              " 0.009031390146006546,\n",
              " 0.008867980872255637,\n",
              " 0.008710663416728342,\n",
              " 0.008559203175573597,\n",
              " 0.008413374715338717,\n",
              " 0.008272961365501463,\n",
              " 0.008137754849850727,\n",
              " 0.00800755494527638,\n",
              " 0.007882169161242129,\n",
              " 0.0077614124359100785,\n",
              " 0.007645106846431061,\n",
              " 0.007533081331802613,\n",
              " 0.0074251714272102086,\n",
              " 0.007321219009066901,\n",
              " 0.007221072050143653,\n",
              " 0.007124584384290001,\n",
              " 0.007031615480311842,\n",
              " 0.006942030224616903]"
            ]
          },
          "metadata": {
            "tags": []
          },
          "execution_count": 11
        }
      ]
    },
    {
      "cell_type": "code",
      "metadata": {
        "id": "42Vrfx51Nztf"
      },
      "source": [
        "def batch_gradient_descent(X,y_true,epochs,learning_rate=0.01):\n",
        "  w = np.ones(shape = X.shape[1])\n",
        "  b = 0\n",
        "  total_samples = X.shape[0]\n",
        "  cost_list2 = []\n",
        "  epoch_list2 = []\n",
        "  for i in range(epochs):\n",
        "    y_predicted = np.dot(w,X.T) + b\n",
        "\n",
        "    w_grad = -(2/total_samples)*np.dot(X.T,(y_true- y_predicted))\n",
        "    b_grad = -(2/total_samples)*np.sum(y_true - y_predicted)\n",
        "\n",
        "    w = w-learning_rate*w_grad\n",
        "    b = b- learning_rate*b_grad\n",
        "\n",
        "    cost = np.mean(np.square(y_true-y_predicted))\n",
        "\n",
        "   \n",
        "\n",
        "    if i % 10 ==0:\n",
        "      cost_list2.append(cost)\n",
        "      epoch_list2.append(i)\n",
        "\n",
        "    \n",
        "  return w,b,cost,cost_list2,epoch_list2\n"
      ],
      "execution_count": 12,
      "outputs": []
    },
    {
      "cell_type": "code",
      "metadata": {
        "id": "FFAYF138cpav"
      },
      "source": [
        "w,b,cost,cost_list2,epoch_list2 = batch_gradient_descent(scaled_X,scaled_y,500)"
      ],
      "execution_count": 13,
      "outputs": []
    },
    {
      "cell_type": "code",
      "metadata": {
        "colab": {
          "base_uri": "https://localhost:8080/"
        },
        "id": "DX5BQ-JWcuDy",
        "outputId": "2f18f034-cb38-4457-825e-40d1d9961466"
      },
      "source": [
        "w,b,cost"
      ],
      "execution_count": 14,
      "outputs": [
        {
          "output_type": "execute_result",
          "data": {
            "text/plain": [
              "(array([0.70712464, 0.67456527]), -0.23034857438407427, 0.0068641890429808105)"
            ]
          },
          "metadata": {
            "tags": []
          },
          "execution_count": 14
        }
      ]
    },
    {
      "cell_type": "code",
      "metadata": {
        "colab": {
          "base_uri": "https://localhost:8080/"
        },
        "id": "k6E0-rf-dHvj",
        "outputId": "c98a678d-f00f-4892-d3f6-a769060a4af4"
      },
      "source": [
        "epoch_list2"
      ],
      "execution_count": 15,
      "outputs": [
        {
          "output_type": "execute_result",
          "data": {
            "text/plain": [
              "[0,\n",
              " 10,\n",
              " 20,\n",
              " 30,\n",
              " 40,\n",
              " 50,\n",
              " 60,\n",
              " 70,\n",
              " 80,\n",
              " 90,\n",
              " 100,\n",
              " 110,\n",
              " 120,\n",
              " 130,\n",
              " 140,\n",
              " 150,\n",
              " 160,\n",
              " 170,\n",
              " 180,\n",
              " 190,\n",
              " 200,\n",
              " 210,\n",
              " 220,\n",
              " 230,\n",
              " 240,\n",
              " 250,\n",
              " 260,\n",
              " 270,\n",
              " 280,\n",
              " 290,\n",
              " 300,\n",
              " 310,\n",
              " 320,\n",
              " 330,\n",
              " 340,\n",
              " 350,\n",
              " 360,\n",
              " 370,\n",
              " 380,\n",
              " 390,\n",
              " 400,\n",
              " 410,\n",
              " 420,\n",
              " 430,\n",
              " 440,\n",
              " 450,\n",
              " 460,\n",
              " 470,\n",
              " 480,\n",
              " 490]"
            ]
          },
          "metadata": {
            "tags": []
          },
          "execution_count": 15
        }
      ]
    },
    {
      "cell_type": "code",
      "metadata": {
        "colab": {
          "base_uri": "https://localhost:8080/"
        },
        "id": "NluA5OU0eAUn",
        "outputId": "b7483292-7546-44b4-aa79-e8762db9957b"
      },
      "source": [
        "cost_list2"
      ],
      "execution_count": 16,
      "outputs": [
        {
          "output_type": "execute_result",
          "data": {
            "text/plain": [
              "[0.2768777174681,\n",
              " 0.16573507027671064,\n",
              " 0.10212908135956808,\n",
              " 0.06564235879682481,\n",
              " 0.04463022365578522,\n",
              " 0.03245122421764872,\n",
              " 0.025317339083010492,\n",
              " 0.021067914076635823,\n",
              " 0.01847041893523527,\n",
              " 0.016821657535428185,\n",
              " 0.015720331469182485,\n",
              " 0.014937329116527901,\n",
              " 0.014341749105819087,\n",
              " 0.0138587099774241,\n",
              " 0.013445288028074867,\n",
              " 0.013076793952344979,\n",
              " 0.012738945874049962,\n",
              " 0.012423405193086517,\n",
              " 0.012125230310262438,\n",
              " 0.011841424159334757,\n",
              " 0.011570105565415722,\n",
              " 0.011310036391930275,\n",
              " 0.01106035160957391,\n",
              " 0.010820405104702651,\n",
              " 0.010589681505198633,\n",
              " 0.010367745666240432,\n",
              " 0.010154213642862602,\n",
              " 0.009948735925187012,\n",
              " 0.009750987675343718,\n",
              " 0.009560662965348804,\n",
              " 0.009377471304274599,\n",
              " 0.009201135478234784,\n",
              " 0.009031390146006546,\n",
              " 0.008867980872255637,\n",
              " 0.008710663416728342,\n",
              " 0.008559203175573597,\n",
              " 0.008413374715338717,\n",
              " 0.008272961365501463,\n",
              " 0.008137754849850727,\n",
              " 0.00800755494527638,\n",
              " 0.007882169161242129,\n",
              " 0.0077614124359100785,\n",
              " 0.007645106846431061,\n",
              " 0.007533081331802613,\n",
              " 0.0074251714272102086,\n",
              " 0.007321219009066901,\n",
              " 0.007221072050143653,\n",
              " 0.007124584384290001,\n",
              " 0.007031615480311842,\n",
              " 0.006942030224616903]"
            ]
          },
          "metadata": {
            "tags": []
          },
          "execution_count": 16
        }
      ]
    },
    {
      "cell_type": "code",
      "metadata": {
        "colab": {
          "base_uri": "https://localhost:8080/",
          "height": 279
        },
        "id": "4xOPgq9ic43W",
        "outputId": "717621ef-0ed2-4377-ba92-486d6b4eac4a"
      },
      "source": [
        "plt.xlabel('epoch')\n",
        "plt.ylabel('cost')\n",
        "plt.plot(epoch_list2,cost_list2)\n",
        "plt.show()"
      ],
      "execution_count": 17,
      "outputs": [
        {
          "output_type": "display_data",
          "data": {
            "image/png": "[encoded data removed]",
            "text/plain": [
              "<Figure size 432x288 with 1 Axes>"
            ]
          },
          "metadata": {
            "tags": [],
            "needs_background": "light"
          }
        }
      ]
    },
    {
      "cell_type": "markdown",
      "metadata": {
        "id": "KX27uRnqgPGI"
      },
      "source": [
        "## **Stochastic Gradient Descent**"
      ]
    },
    {
      "cell_type": "code",
      "metadata": {
        "id": "sTtRxPPPgR07",
        "colab": {
          "base_uri": "https://localhost:8080/"
        },
        "outputId": "f5fd4f82-e20c-4118-81f6-d58566745485"
      },
      "source": [
        "import random\n",
        "random.randint(0,5)"
      ],
      "execution_count": 18,
      "outputs": [
        {
          "output_type": "execute_result",
          "data": {
            "text/plain": [
              "3"
            ]
          },
          "metadata": {
            "tags": []
          },
          "execution_count": 18
        }
      ]
    },
    {
      "cell_type": "code",
      "metadata": {
        "colab": {
          "base_uri": "https://localhost:8080/"
        },
        "id": "bvpYvJJhmDz5",
        "outputId": "0b576ec7-1062-4ea7-b48e-aedad2898cdf"
      },
      "source": [
        "random.randint(0,7)"
      ],
      "execution_count": 19,
      "outputs": [
        {
          "output_type": "execute_result",
          "data": {
            "text/plain": [
              "4"
            ]
          },
          "metadata": {
            "tags": []
          },
          "execution_count": 19
        }
      ]
    },
    {
      "cell_type": "code",
      "metadata": {
        "id": "HWFrpzvDmXL-"
      },
      "source": [
        "def stochastic_gradient_descent(X,y_true,epochs,learning_rate = 0.01):\n",
        "  number_of_features = X.shape[1]\n",
        "\n",
        "  w = np.ones(shape = (number_of_features))\n",
        "  b = 0\n",
        "  total_samples = X.shape[0]\n",
        "\n",
        "  cost_lst = []\n",
        "  epoch_lst = []\n",
        "\n",
        "  for i in range(epochs):\n",
        "    random_index = random.randint(0,total_samples-1)\n",
        "    sample_x = X[random_index]\n",
        "    sample_y = y_true[random_index]\n",
        "\n",
        "    y_predicted = np.dot(w,sample_x.T) + b\n",
        "     \n",
        "    w_grad = -(2/total_samples)*np.dot(sample_x.T,(sample_y-y_predicted))\n",
        "    b_grad = -(2/total_samples)*np.sum(sample_y-y_predicted)\n",
        "\n",
        "    w = w-learning_rate*w_grad\n",
        "    b = b-learning_rate*b_grad\n",
        "\n",
        "    cost_sgd = np.mean(np.square(sample_y-y_predicted))\n",
        "\n",
        "    if i % 100 ==0:\n",
        "      cost_lst.append(cost_sgd)\n",
        "      epoch_lst.append(i)\n",
        "\n",
        "  return w,b,cost,cost_lst,epoch_lst"
      ],
      "execution_count": 20,
      "outputs": []
    },
    {
      "cell_type": "code",
      "metadata": {
        "id": "_9aSc5pBp6ln"
      },
      "source": [
        "w_sgd,b_sgd,cost_sgd,cost_lst_sgd,epoch_lst_sgd = stochastic_gradient_descent(scaled_X,scaled_y,10000)\n"
      ],
      "execution_count": 21,
      "outputs": []
    },
    {
      "cell_type": "code",
      "metadata": {
        "colab": {
          "base_uri": "https://localhost:8080/"
        },
        "id": "fcywPv9VxV7V",
        "outputId": "99224fa9-7cec-433d-c278-7cdbe96654cf"
      },
      "source": [
        "w_sgd,b_sgd,cost_sgd"
      ],
      "execution_count": 22,
      "outputs": [
        {
          "output_type": "execute_result",
          "data": {
            "text/plain": [
              "(array([0.7084734 , 0.67572732]), -0.22749970865177102, 0.0068641890429808105)"
            ]
          },
          "metadata": {
            "tags": []
          },
          "execution_count": 22
        }
      ]
    },
    {
      "cell_type": "code",
      "metadata": {
        "colab": {
          "base_uri": "https://localhost:8080/"
        },
        "id": "1s9VFv7jxa0W",
        "outputId": "baaa31c4-bad4-44c3-aeba-2226309406d8"
      },
      "source": [
        "len(epoch_lst_sgd)"
      ],
      "execution_count": 23,
      "outputs": [
        {
          "output_type": "execute_result",
          "data": {
            "text/plain": [
              "100"
            ]
          },
          "metadata": {
            "tags": []
          },
          "execution_count": 23
        }
      ]
    },
    {
      "cell_type": "code",
      "metadata": {
        "colab": {
          "base_uri": "https://localhost:8080/"
        },
        "id": "Nnzgxm_YyUdA",
        "outputId": "c82a1c0d-4f2e-4f56-edaa-9265b8f37a41"
      },
      "source": [
        "len(cost_lst_sgd)"
      ],
      "execution_count": 24,
      "outputs": [
        {
          "output_type": "execute_result",
          "data": {
            "text/plain": [
              "100"
            ]
          },
          "metadata": {
            "tags": []
          },
          "execution_count": 24
        }
      ]
    },
    {
      "cell_type": "code",
      "metadata": {
        "colab": {
          "base_uri": "https://localhost:8080/",
          "height": 282
        },
        "id": "tyyJmLy5yfV3",
        "outputId": "0dcd350a-474a-474e-c237-673f88c2da29"
      },
      "source": [
        "plt.plot(epoch_lst_sgd,cost_lst_sgd)"
      ],
      "execution_count": 25,
      "outputs": [
        {
          "output_type": "execute_result",
          "data": {
            "text/plain": [
              "[<matplotlib.lines.Line2D at 0x7f188cda1590>]"
            ]
          },
          "metadata": {
            "tags": []
          },
          "execution_count": 25
        },
        {
          "output_type": "display_data",
          "data": {
            "image/png": "[encoded data removed]",
            "text/plain": [
              "<Figure size 432x288 with 1 Axes>"
            ]
          },
          "metadata": {
            "tags": [],
            "needs_background": "light"
          }
        }
      ]
    },
    {
      "cell_type": "code",
      "metadata": {
        "colab": {
          "base_uri": "https://localhost:8080/"
        },
        "id": "f0Jyz8Uh6S1H",
        "outputId": "87ee6599-7352-4c46-f3d6-ed13abb03a86"
      },
      "source": [
        "sx.transform([[12000,5]])"
      ],
      "execution_count": 26,
      "outputs": [
        {
          "output_type": "execute_result",
          "data": {
            "text/plain": [
              "array([[3.86206897, 1.        ]])"
            ]
          },
          "metadata": {
            "tags": []
          },
          "execution_count": 26
        }
      ]
    },
    {
      "cell_type": "code",
      "metadata": {
        "id": "E1o7xqnj1BL8"
      },
      "source": [
        "def predict(area,bedrooms,w,b):\n",
        "  sclaed_X = sx.transform([[area,bedrooms]])[0]"
      ],
      "execution_count": 27,
      "outputs": []
    },
    {
      "cell_type": "markdown",
      "metadata": {
        "id": "aWfS7_5Dm3g9"
      },
      "source": [
        ""
      ]
    },
    {
      "cell_type": "markdown",
      "metadata": {
        "id": "xwh0wa-Cm3np"
      },
      "source": [
        "# **Mini** **Batch** **Gradient**"
      ]
    },
    {
      "cell_type": "code",
      "metadata": {
        "id": "bBvUjWdTWruI"
      },
      "source": [
        "def mini_batch_gradient(X,y_true,epochs = 100,batch_size = 5, learning_rate= 0.01):\n",
        "  number_of_features = X.shape[1]\n",
        "  total_samples = X.shape[0]\n",
        "\n",
        "  w = np.ones(shape = number_of_features)\n",
        "  b = 0\n",
        "\n",
        "  if batch_size > total_samples:\n",
        "    batch_size = total_samples\n",
        "\n",
        "  cost_list3 = []\n",
        "  epoch_list3 = []\n",
        "\n",
        "  num_batches = int(total_samples/batch_size)\n",
        "\n",
        "  for i in range(epochs):\n",
        "    random_indices = np.random.permutation(total_samples)\n",
        "\n",
        "    X_tmp = X[random_indices]\n",
        "    y_tmp = y_true[random_indices]\n",
        "\n",
        "    for j in range(0,total_samples,batch_size):\n",
        "      Xj = X_tmp[j:j+batch_size]\n",
        "      yj = y_tmp[j:j+batch_size]\n",
        "      y_predicted = np.dot(w,Xj.T) + b\n",
        "\n",
        "      w_grad = -(2/len(Xj))*(np.dot(Xj.T,(yj-y_predicted)))\n",
        "      b_grad = -(2/len(Xj))*np.sum(yj-y_predicted)\n",
        "\n",
        "      w = w-learning_rate*w_grad\n",
        "      b = b-learning_rate*b_grad\n",
        "\n",
        "      cost = np.mean(np.square(yj-y_predicted))\n",
        "\n",
        "      if i%10 ==0:\n",
        "        cost_list3.append(cost)\n",
        "        epoch_list3.append(i)\n",
        "  return w,b,cost,cost_list3,epoch_list3\n",
        "\n",
        "                               "
      ],
      "execution_count": 45,
      "outputs": []
    },
    {
      "cell_type": "code",
      "metadata": {
        "id": "BZRl4gtfl_yq"
      },
      "source": [
        "w,b,cost,cost_list3,epoch_list3 = mini_batch_gradient(scaled_X,scaled_y,epochs = 120,batch_size = 5)"
      ],
      "execution_count": 46,
      "outputs": []
    },
    {
      "cell_type": "code",
      "metadata": {
        "colab": {
          "base_uri": "https://localhost:8080/"
        },
        "id": "Ff6iEpCdonSa",
        "outputId": "3d4d8035-ca9d-49c0-cca3-71d547bc0576"
      },
      "source": [
        "w,b,cost"
      ],
      "execution_count": 47,
      "outputs": [
        {
          "output_type": "execute_result",
          "data": {
            "text/plain": [
              "(array([0.7101347 , 0.67815103]), -0.23347163071686877, 0.0045366894042594376)"
            ]
          },
          "metadata": {
            "tags": []
          },
          "execution_count": 47
        }
      ]
    },
    {
      "cell_type": "code",
      "metadata": {
        "colab": {
          "base_uri": "https://localhost:8080/",
          "height": 282
        },
        "id": "BuU2gELao7CD",
        "outputId": "e22e6efd-8eb6-49c8-8d73-b01391559950"
      },
      "source": [
        "plt.plot(epoch_list3,cost_list3)"
      ],
      "execution_count": 48,
      "outputs": [
        {
          "output_type": "execute_result",
          "data": {
            "text/plain": [
              "[<matplotlib.lines.Line2D at 0x7f18884d7210>]"
            ]
          },
          "metadata": {
            "tags": []
          },
          "execution_count": 48
        },
        {
          "output_type": "display_data",
          "data": {
            "image/png": "[encoded data removed]",
            "text/plain": [
              "<Figure size 432x288 with 1 Axes>"
            ]
          },
          "metadata": {
            "tags": [],
            "needs_background": "light"
          }
        }
      ]
    },
    {
      "cell_type": "code",
      "metadata": {
        "id": "sIkiloSBpn89"
      },
      "source": [
        ""
      ],
      "execution_count": null,
      "outputs": []
    }
  ]
}