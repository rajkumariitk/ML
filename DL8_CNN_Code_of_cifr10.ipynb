{
  "nbformat": 4,
  "nbformat_minor": 0,
  "metadata": {
    "colab": {
      "name": "DL8_CNN_Code_of_cifr10.ipynb",
      "provenance": [],
      "authorship_tag": "ABX9TyPrikkilLsl+yDukGL+0xsy",
      "include_colab_link": true
    },
    "kernelspec": {
      "name": "python3",
      "display_name": "Python 3"
    },
    "language_info": {
      "name": "python"
    },
    "accelerator": "GPU"
  },
  "cells": [
    {
      "cell_type": "markdown",
      "metadata": {
        "id": "view-in-github",
        "colab_type": "text"
      },
      "source": [
        "<a href=\"https://colab.research.google.com/github/rjkryv/ML/blob/main/DL8_CNN_Code_of_cifr10.ipynb\" target=\"_parent\"><img src=\"https://colab.research.google.com/assets/colab-badge.svg\" alt=\"Open In Colab\"/></a>"
      ]
    },
    {
      "cell_type": "code",
      "metadata": {
        "id": "OJ33S_Xs1kDT"
      },
      "source": [
        "import tensorflow as tf\n",
        "from tensorflow.keras import datasets,layers,models\n",
        "import matplotlib.pyplot as plt\n",
        "import numpy as np\n",
        " "
      ],
      "execution_count": 2,
      "outputs": []
    },
    {
      "cell_type": "code",
      "metadata": {
        "colab": {
          "base_uri": "https://localhost:8080/"
        },
        "id": "-QrZ-HGy-OH-",
        "outputId": "50980962-e039-4add-9228-c014ce2b4ef5"
      },
      "source": [
        "(X_train,y_train),(X_test,y_test) = datasets.cifar10.load_data()\n",
        "X_train.shape"
      ],
      "execution_count": 3,
      "outputs": [
        {
          "output_type": "execute_result",
          "data": {
            "text/plain": [
              "(50000, 32, 32, 3)"
            ]
          },
          "metadata": {
            "tags": []
          },
          "execution_count": 3
        }
      ]
    },
    {
      "cell_type": "code",
      "metadata": {
        "colab": {
          "base_uri": "https://localhost:8080/"
        },
        "id": "dVyk8hBb-t0k",
        "outputId": "6d9372b1-fc91-4275-fec5-a3d744d98835"
      },
      "source": [
        "X_test.shape"
      ],
      "execution_count": 4,
      "outputs": [
        {
          "output_type": "execute_result",
          "data": {
            "text/plain": [
              "(10000, 32, 32, 3)"
            ]
          },
          "metadata": {
            "tags": []
          },
          "execution_count": 4
        }
      ]
    },
    {
      "cell_type": "code",
      "metadata": {
        "colab": {
          "base_uri": "https://localhost:8080/"
        },
        "id": "tyeYgZf4Aus0",
        "outputId": "0cfee4b1-3dc4-4304-c2ad-7b0f24448bd7"
      },
      "source": [
        "y_train[:5]"
      ],
      "execution_count": 5,
      "outputs": [
        {
          "output_type": "execute_result",
          "data": {
            "text/plain": [
              "array([[6],\n",
              "       [9],\n",
              "       [9],\n",
              "       [4],\n",
              "       [1]], dtype=uint8)"
            ]
          },
          "metadata": {
            "tags": []
          },
          "execution_count": 5
        }
      ]
    },
    {
      "cell_type": "code",
      "metadata": {
        "id": "jeuKG2JjBhe8"
      },
      "source": [
        "y_train = y_train.reshape(-1,)"
      ],
      "execution_count": 6,
      "outputs": []
    },
    {
      "cell_type": "code",
      "metadata": {
        "id": "oRMuTr4AA2ul"
      },
      "source": [
        "classes = [\"airplane\",\"automobile\",\"bird\",\"cat\",\"deer\",\"dog\",\"frog\",\"horse\",\"ship\",\"truck\"]"
      ],
      "execution_count": 7,
      "outputs": []
    },
    {
      "cell_type": "code",
      "metadata": {
        "colab": {
          "base_uri": "https://localhost:8080/",
          "height": 35
        },
        "id": "2C279SBKB53O",
        "outputId": "165954c9-6752-4813-f9af-8b07cdc33135"
      },
      "source": [
        "classes[0]"
      ],
      "execution_count": 8,
      "outputs": [
        {
          "output_type": "execute_result",
          "data": {
            "application/vnd.google.colaboratory.intrinsic+json": {
              "type": "string"
            },
            "text/plain": [
              "'airplane'"
            ]
          },
          "metadata": {
            "tags": []
          },
          "execution_count": 8
        }
      ]
    },
    {
      "cell_type": "code",
      "metadata": {
        "id": "JVOb7EScCGbr"
      },
      "source": [
        "def plot_sample(X,y,index):\n",
        "  plt.figure(figsize=(15,2))\n",
        "  plt.imshow(X[index])\n",
        "  plt.xlabel(classes[y[index]])\n"
      ],
      "execution_count": 9,
      "outputs": []
    },
    {
      "cell_type": "code",
      "metadata": {
        "colab": {
          "base_uri": "https://localhost:8080/",
          "height": 173
        },
        "id": "zEUHnG8b_o21",
        "outputId": "3c68881c-c7eb-4f75-c14c-f35dc509c344"
      },
      "source": [
        "plot_sample(X_train,y_train,8833)"
      ],
      "execution_count": 10,
      "outputs": [
        {
          "output_type": "display_data",
          "data": {
            "image/png": "[encoded data removed]",
            "text/plain": [
              "<Figure size 1080x144 with 1 Axes>"
            ]
          },
          "metadata": {
            "tags": [],
            "needs_background": "light"
          }
        }
      ]
    },
    {
      "cell_type": "code",
      "metadata": {
        "id": "2oGX_3bkCyNU"
      },
      "source": [
        "X_train = X_train/255\n",
        "X_test = X_test/255"
      ],
      "execution_count": 11,
      "outputs": []
    },
    {
      "cell_type": "code",
      "metadata": {
        "id": "yTKaGnM-GFdE"
      },
      "source": [
        "from tensorflow import keras"
      ],
      "execution_count": 12,
      "outputs": []
    },
    {
      "cell_type": "code",
      "metadata": {
        "colab": {
          "base_uri": "https://localhost:8080/"
        },
        "id": "Bgz6yLcMDtjU",
        "outputId": "9c43bd60-685d-4870-a23c-476c08859087"
      },
      "source": [
        "ann = keras.Sequential([\n",
        "                         keras.layers.Flatten(input_shape = (32,32,3)),\n",
        "                         keras.layers.Dense(3000,activation='relu'),\n",
        "                         keras.layers.Dense(1000,activation='relu'),\n",
        "                         keras.layers.Dense(10,activation='sigmoid')\n",
        "])\n",
        "\n",
        "ann.compile(optimizer= 'SGD',\n",
        "            loss = 'sparse_categorical_crossentropy',\n",
        "            metrics = ['accuracy'])\n",
        "\n",
        "ann.fit(X_train,y_train,epochs =5)"
      ],
      "execution_count": 13,
      "outputs": [
        {
          "output_type": "stream",
          "text": [
            "Epoch 1/5\n",
            "1563/1563 [==============================] - 6s 3ms/step - loss: 1.8137 - accuracy: 0.3548\n",
            "Epoch 2/5\n",
            "1563/1563 [==============================] - 5s 3ms/step - loss: 1.6247 - accuracy: 0.4269\n",
            "Epoch 3/5\n",
            "1563/1563 [==============================] - 5s 3ms/step - loss: 1.5432 - accuracy: 0.4568\n",
            "Epoch 4/5\n",
            "1563/1563 [==============================] - 5s 3ms/step - loss: 1.4821 - accuracy: 0.4780\n",
            "Epoch 5/5\n",
            "1563/1563 [==============================] - 5s 3ms/step - loss: 1.4359 - accuracy: 0.4951\n"
          ],
          "name": "stdout"
        },
        {
          "output_type": "execute_result",
          "data": {
            "text/plain": [
              "<tensorflow.python.keras.callbacks.History at 0x7f7527f410d0>"
            ]
          },
          "metadata": {
            "tags": []
          },
          "execution_count": 13
        }
      ]
    },
    {
      "cell_type": "code",
      "metadata": {
        "colab": {
          "base_uri": "https://localhost:8080/"
        },
        "id": "dBqfJ-RCEX7N",
        "outputId": "1950bf97-1042-40c7-9b32-74efe506a59e"
      },
      "source": [
        "ann.evaluate(X_test,y_test)"
      ],
      "execution_count": 14,
      "outputs": [
        {
          "output_type": "stream",
          "text": [
            "313/313 [==============================] - 1s 2ms/step - loss: 1.5694 - accuracy: 0.4424\n"
          ],
          "name": "stdout"
        },
        {
          "output_type": "execute_result",
          "data": {
            "text/plain": [
              "[1.5693745613098145, 0.4424000084400177]"
            ]
          },
          "metadata": {
            "tags": []
          },
          "execution_count": 14
        }
      ]
    },
    {
      "cell_type": "code",
      "metadata": {
        "colab": {
          "base_uri": "https://localhost:8080/"
        },
        "id": "rs7rE_xEIVnH",
        "outputId": "576da38c-0642-4602-adc4-779a91e1d39d"
      },
      "source": [
        "from sklearn.metrics import confusion_matrix,classification_report\n",
        "import numpy as np\n",
        "y_pred = ann.predict(X_test)\n",
        "y_pred_classes = [np.argmax(element) for element in y_pred]\n",
        "\n",
        "print(\"classificaton Report: \\n\",classification_report(y_test,y_pred_classes))"
      ],
      "execution_count": 15,
      "outputs": [
        {
          "output_type": "stream",
          "text": [
            "classificaton Report: \n",
            "               precision    recall  f1-score   support\n",
            "\n",
            "           0       0.48      0.62      0.54      1000\n",
            "           1       0.34      0.85      0.48      1000\n",
            "           2       0.51      0.16      0.24      1000\n",
            "           3       0.32      0.33      0.33      1000\n",
            "           4       0.42      0.40      0.41      1000\n",
            "           5       0.40      0.36      0.38      1000\n",
            "           6       0.68      0.34      0.45      1000\n",
            "           7       0.52      0.56      0.54      1000\n",
            "           8       0.76      0.38      0.50      1000\n",
            "           9       0.46      0.43      0.44      1000\n",
            "\n",
            "    accuracy                           0.44     10000\n",
            "   macro avg       0.49      0.44      0.43     10000\n",
            "weighted avg       0.49      0.44      0.43     10000\n",
            "\n"
          ],
          "name": "stdout"
        }
      ]
    },
    {
      "cell_type": "code",
      "metadata": {
        "id": "ovXZrUK8JaOP"
      },
      "source": [
        "cnn = models.Sequential([\n",
        "                         # cnn\n",
        "                         layers.Conv2D(filters = 32,kernel_size=(3,3),activation= 'relu',input_shape = (32,32,3)),\n",
        "                         layers.MaxPooling2D((2,2)),\n",
        "\n",
        "                         layers.Conv2D(filters = 32,kernel_size=(3,3),activation= 'relu',input_shape = (32,32,3)),\n",
        "                         layers.MaxPooling2D((2,2)),\n",
        "\n",
        "                         # dense\n",
        "\n",
        "                         layers.Flatten(),\n",
        "                         layers.Dense(64,activation='relu'),\n",
        "                         layers.Dense(10,activation='softmax')\n",
        "])"
      ],
      "execution_count": 16,
      "outputs": []
    },
    {
      "cell_type": "code",
      "metadata": {
        "id": "eP0L2LKHMlr9"
      },
      "source": [
        "cnn.compile(optimizer= 'adam',\n",
        "            loss = 'sparse_categorical_crossentropy',\n",
        "            metrics = ['accuracy'])"
      ],
      "execution_count": 20,
      "outputs": []
    },
    {
      "cell_type": "code",
      "metadata": {
        "colab": {
          "base_uri": "https://localhost:8080/"
        },
        "id": "RmBLM_3zM2yx",
        "outputId": "7c4e1369-8b10-4647-df4f-d7d0820e218a"
      },
      "source": [
        "cnn.fit(X_train,y_train,epochs =10)"
      ],
      "execution_count": 21,
      "outputs": [
        {
          "output_type": "stream",
          "text": [
            "Epoch 1/10\n",
            "1563/1563 [==============================] - 5s 3ms/step - loss: 1.0446 - accuracy: 0.6345\n",
            "Epoch 2/10\n",
            "1563/1563 [==============================] - 5s 3ms/step - loss: 0.9402 - accuracy: 0.6693\n",
            "Epoch 3/10\n",
            "1563/1563 [==============================] - 5s 3ms/step - loss: 0.8518 - accuracy: 0.7020\n",
            "Epoch 4/10\n",
            "1563/1563 [==============================] - 5s 3ms/step - loss: 0.7719 - accuracy: 0.7288\n",
            "Epoch 5/10\n",
            "1563/1563 [==============================] - 5s 3ms/step - loss: 0.7124 - accuracy: 0.7507\n",
            "Epoch 6/10\n",
            "1563/1563 [==============================] - 5s 3ms/step - loss: 0.6597 - accuracy: 0.7675\n",
            "Epoch 7/10\n",
            "1563/1563 [==============================] - 5s 3ms/step - loss: 0.6100 - accuracy: 0.7848\n",
            "Epoch 8/10\n",
            "1563/1563 [==============================] - 5s 3ms/step - loss: 0.5611 - accuracy: 0.8021\n",
            "Epoch 9/10\n",
            "1563/1563 [==============================] - 5s 3ms/step - loss: 0.5195 - accuracy: 0.8183\n",
            "Epoch 10/10\n",
            "1563/1563 [==============================] - 5s 3ms/step - loss: 0.4807 - accuracy: 0.8313\n"
          ],
          "name": "stdout"
        },
        {
          "output_type": "execute_result",
          "data": {
            "text/plain": [
              "<tensorflow.python.keras.callbacks.History at 0x7f7496180d90>"
            ]
          },
          "metadata": {
            "tags": []
          },
          "execution_count": 21
        }
      ]
    },
    {
      "cell_type": "code",
      "metadata": {
        "colab": {
          "base_uri": "https://localhost:8080/"
        },
        "id": "HDaBc6aRM6sV",
        "outputId": "3cbd7ac8-4bf2-4c36-c1a4-057a4d8b2944"
      },
      "source": [
        "cnn.evaluate(X_test,y_test)"
      ],
      "execution_count": 22,
      "outputs": [
        {
          "output_type": "stream",
          "text": [
            "313/313 [==============================] - 1s 2ms/step - loss: 1.0712 - accuracy: 0.6838\n"
          ],
          "name": "stdout"
        },
        {
          "output_type": "execute_result",
          "data": {
            "text/plain": [
              "[1.0711561441421509, 0.6837999820709229]"
            ]
          },
          "metadata": {
            "tags": []
          },
          "execution_count": 22
        }
      ]
    },
    {
      "cell_type": "code",
      "metadata": {
        "id": "9Ulk2-ysOEf2"
      },
      "source": [
        "y_test= y_test.reshape(-1,)"
      ],
      "execution_count": 23,
      "outputs": []
    },
    {
      "cell_type": "code",
      "metadata": {
        "colab": {
          "base_uri": "https://localhost:8080/",
          "height": 173
        },
        "id": "xr5k4YGsOZqB",
        "outputId": "bec3fd87-0833-49e7-fe28-1e46073dc182"
      },
      "source": [
        "plot_sample(X_test,y_test,1)"
      ],
      "execution_count": 24,
      "outputs": [
        {
          "output_type": "display_data",
          "data": {
            "image/png": "[encoded data removed]",
            "text/plain": [
              "<Figure size 1080x144 with 1 Axes>"
            ]
          },
          "metadata": {
            "tags": [],
            "needs_background": "light"
          }
        }
      ]
    },
    {
      "cell_type": "code",
      "metadata": {
        "colab": {
          "base_uri": "https://localhost:8080/"
        },
        "id": "guyCF2btOiXV",
        "outputId": "bd36a21f-2cae-4aa3-e2b6-bbb017f3218c"
      },
      "source": [
        "y_pred = cnn.predict(X_test)\n",
        "y_pred[:5]"
      ],
      "execution_count": 25,
      "outputs": [
        {
          "output_type": "execute_result",
          "data": {
            "text/plain": [
              "array([[2.3926257e-03, 7.1403934e-05, 4.3590073e-05, 9.4062126e-01,\n",
              "        2.4030439e-04, 4.3540116e-02, 1.1837823e-02, 5.9336446e-05,\n",
              "        8.1723207e-05, 1.1118145e-03],\n",
              "       [4.1625175e-05, 1.3639085e-03, 4.4709768e-08, 1.4217747e-09,\n",
              "        2.4802399e-10, 2.6567962e-10, 7.6107853e-12, 1.5113813e-11,\n",
              "        9.9859422e-01, 2.5956911e-07],\n",
              "       [3.2928953e-01, 5.6269389e-02, 1.1267252e-02, 6.5738976e-04,\n",
              "        5.5215915e-04, 1.7848528e-05, 3.5379846e-05, 2.2087323e-04,\n",
              "        5.8978587e-01, 1.1904246e-02],\n",
              "       [5.0616485e-01, 1.1299924e-03, 3.1720720e-02, 2.0948277e-04,\n",
              "        4.2452738e-01, 3.8723574e-06, 2.4336512e-06, 7.3345567e-05,\n",
              "        3.5867840e-02, 3.0017440e-04],\n",
              "       [5.0015515e-08, 1.9026822e-07, 1.5626783e-02, 1.6431215e-01,\n",
              "        2.9911527e-01, 1.5255400e-03, 5.1940680e-01, 3.2632258e-07,\n",
              "        1.2864117e-05, 1.8306704e-08]], dtype=float32)"
            ]
          },
          "metadata": {
            "tags": []
          },
          "execution_count": 25
        }
      ]
    },
    {
      "cell_type": "code",
      "metadata": {
        "colab": {
          "base_uri": "https://localhost:8080/"
        },
        "id": "46tYfN_aO3PN",
        "outputId": "dfca3fa5-334d-4c69-cd5d-802db8c954f5"
      },
      "source": [
        "np.argmax([5,12,1,35])"
      ],
      "execution_count": 27,
      "outputs": [
        {
          "output_type": "execute_result",
          "data": {
            "text/plain": [
              "3"
            ]
          },
          "metadata": {
            "tags": []
          },
          "execution_count": 27
        }
      ]
    },
    {
      "cell_type": "code",
      "metadata": {
        "colab": {
          "base_uri": "https://localhost:8080/"
        },
        "id": "YUuLeyZpPCkj",
        "outputId": "ebd654e6-a446-4707-fbc1-99a851e93232"
      },
      "source": [
        "y_classes= [np.argmax(element) for element in y_pred]\n",
        "y_classes[:10]"
      ],
      "execution_count": 33,
      "outputs": [
        {
          "output_type": "execute_result",
          "data": {
            "text/plain": [
              "[3, 8, 8, 0, 6, 6, 1, 6, 3, 1]"
            ]
          },
          "metadata": {
            "tags": []
          },
          "execution_count": 33
        }
      ]
    },
    {
      "cell_type": "code",
      "metadata": {
        "colab": {
          "base_uri": "https://localhost:8080/"
        },
        "id": "G4ulpyPDPaOI",
        "outputId": "ba04fdbd-60a3-4c8b-bb5d-144fb98b50dc"
      },
      "source": [
        "y_test[:10]"
      ],
      "execution_count": 34,
      "outputs": [
        {
          "output_type": "execute_result",
          "data": {
            "text/plain": [
              "array([3, 8, 8, 0, 6, 6, 1, 6, 3, 1], dtype=uint8)"
            ]
          },
          "metadata": {
            "tags": []
          },
          "execution_count": 34
        }
      ]
    },
    {
      "cell_type": "code",
      "metadata": {
        "colab": {
          "base_uri": "https://localhost:8080/",
          "height": 173
        },
        "id": "bje1G3GtP7EX",
        "outputId": "a015aff9-b207-401a-d357-c5184e2de7cc"
      },
      "source": [
        "plot_sample(X_test,y_test,3)"
      ],
      "execution_count": 40,
      "outputs": [
        {
          "output_type": "display_data",
          "data": {
            "image/png": "[encoded data removed]",
            "text/plain": [
              "<Figure size 1080x144 with 1 Axes>"
            ]
          },
          "metadata": {
            "tags": [],
            "needs_background": "light"
          }
        }
      ]
    },
    {
      "cell_type": "code",
      "metadata": {
        "colab": {
          "base_uri": "https://localhost:8080/",
          "height": 35
        },
        "id": "oEKlElR_QELp",
        "outputId": "caed7e14-cbc0-411a-82d2-960319c9c3a2"
      },
      "source": [
        "classes[y_classes[3]]"
      ],
      "execution_count": 41,
      "outputs": [
        {
          "output_type": "execute_result",
          "data": {
            "application/vnd.google.colaboratory.intrinsic+json": {
              "type": "string"
            },
            "text/plain": [
              "'airplane'"
            ]
          },
          "metadata": {
            "tags": []
          },
          "execution_count": 41
        }
      ]
    },
    {
      "cell_type": "code",
      "metadata": {
        "colab": {
          "base_uri": "https://localhost:8080/"
        },
        "id": "B7LMQGLsQNQ7",
        "outputId": "9c268f64-4cd7-4ff6-f4d1-a41d4ac9c301"
      },
      "source": [
        "print(\"classificaton Report: \\n\",classification_report(y_test,y_classes))"
      ],
      "execution_count": 42,
      "outputs": [
        {
          "output_type": "stream",
          "text": [
            "classificaton Report: \n",
            "               precision    recall  f1-score   support\n",
            "\n",
            "           0       0.66      0.77      0.71      1000\n",
            "           1       0.81      0.78      0.79      1000\n",
            "           2       0.58      0.59      0.58      1000\n",
            "           3       0.51      0.53      0.52      1000\n",
            "           4       0.64      0.60      0.62      1000\n",
            "           5       0.59      0.56      0.57      1000\n",
            "           6       0.75      0.77      0.76      1000\n",
            "           7       0.75      0.70      0.72      1000\n",
            "           8       0.80      0.78      0.79      1000\n",
            "           9       0.77      0.76      0.77      1000\n",
            "\n",
            "    accuracy                           0.68     10000\n",
            "   macro avg       0.69      0.68      0.68     10000\n",
            "weighted avg       0.69      0.68      0.68     10000\n",
            "\n"
          ],
          "name": "stdout"
        }
      ]
    },
    {
      "cell_type": "code",
      "metadata": {
        "id": "6ScGwwCKQiuF"
      },
      "source": [
        ""
      ],
      "execution_count": null,
      "outputs": []
    }
  ]
}