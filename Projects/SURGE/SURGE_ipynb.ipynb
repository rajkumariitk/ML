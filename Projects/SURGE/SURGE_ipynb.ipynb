{
  "nbformat": 4,
  "nbformat_minor": 5,
  "metadata": {
    "kernelspec": {
      "display_name": "Python 3",
      "language": "python",
      "name": "python3"
    },
    "language_info": {
      "codemirror_mode": {
        "name": "ipython",
        "version": 3
      },
      "file_extension": ".py",
      "mimetype": "text/x-python",
      "name": "python",
      "nbconvert_exporter": "python",
      "pygments_lexer": "ipython3",
      "version": "3.8.10"
    },
    "colab": {
      "name": "SURGE.ipynb",
      "provenance": [],
      "collapsed_sections": []
    },
    "accelerator": "GPU"
  },
  "cells": [
    {
      "cell_type": "code",
      "metadata": {
        "id": "2b5a0234"
      },
      "source": [
        "import tensorflow as tf\n",
        "import matplotlib.pyplot as plt\n",
        "import numpy as np\n",
        "import os\n",
        "import cv2"
      ],
      "id": "2b5a0234",
      "execution_count": 2,
      "outputs": []
    },
    {
      "cell_type": "code",
      "metadata": {
        "colab": {
          "base_uri": "https://localhost:8080/"
        },
        "id": "fVOLLXwjOGgN",
        "outputId": "d62ee957-fe3b-4a49-9976-bc3e0af8c3b7"
      },
      "source": [
        "from google.colab import drive\n",
        "drive.mount('/content/drive')"
      ],
      "id": "fVOLLXwjOGgN",
      "execution_count": 3,
      "outputs": [
        {
          "output_type": "stream",
          "name": "stdout",
          "text": [
            "Mounted at /content/drive\n"
          ]
        }
      ]
    },
    {
      "cell_type": "code",
      "metadata": {
        "id": "vsvBoDquWjXg"
      },
      "source": [
        "import pandas as pd"
      ],
      "id": "vsvBoDquWjXg",
      "execution_count": 4,
      "outputs": []
    },
    {
      "cell_type": "code",
      "metadata": {
        "id": "Tu70qngQRfCN"
      },
      "source": [
        "data = pd.read_csv('/content/drive/MyDrive/fer2013.csv')"
      ],
      "id": "Tu70qngQRfCN",
      "execution_count": 5,
      "outputs": []
    },
    {
      "cell_type": "code",
      "metadata": {
        "colab": {
          "base_uri": "https://localhost:8080/",
          "height": 669
        },
        "id": "fiUl-_kwzIAd",
        "outputId": "7682e935-8ce9-4310-ad83-411ad88c1da2"
      },
      "source": [
        "data.head(20)"
      ],
      "id": "fiUl-_kwzIAd",
      "execution_count": 9,
      "outputs": [
        {
          "output_type": "execute_result",
          "data": {
            "text/html": [
              "<div>\n",
              "<style scoped>\n",
              "    .dataframe tbody tr th:only-of-type {\n",
              "        vertical-align: middle;\n",
              "    }\n",
              "\n",
              "    .dataframe tbody tr th {\n",
              "        vertical-align: top;\n",
              "    }\n",
              "\n",
              "    .dataframe thead th {\n",
              "        text-align: right;\n",
              "    }\n",
              "</style>\n",
              "<table border=\"1\" class=\"dataframe\">\n",
              "  <thead>\n",
              "    <tr style=\"text-align: right;\">\n",
              "      <th></th>\n",
              "      <th>emotion</th>\n",
              "      <th>pixels</th>\n",
              "      <th>Usage</th>\n",
              "    </tr>\n",
              "  </thead>\n",
              "  <tbody>\n",
              "    <tr>\n",
              "      <th>0</th>\n",
              "      <td>0</td>\n",
              "      <td>70 80 82 72 58 58 60 63 54 58 60 48 89 115 121...</td>\n",
              "      <td>Training</td>\n",
              "    </tr>\n",
              "    <tr>\n",
              "      <th>1</th>\n",
              "      <td>0</td>\n",
              "      <td>151 150 147 155 148 133 111 140 170 174 182 15...</td>\n",
              "      <td>Training</td>\n",
              "    </tr>\n",
              "    <tr>\n",
              "      <th>2</th>\n",
              "      <td>2</td>\n",
              "      <td>231 212 156 164 174 138 161 173 182 200 106 38...</td>\n",
              "      <td>Training</td>\n",
              "    </tr>\n",
              "    <tr>\n",
              "      <th>3</th>\n",
              "      <td>4</td>\n",
              "      <td>24 32 36 30 32 23 19 20 30 41 21 22 32 34 21 1...</td>\n",
              "      <td>Training</td>\n",
              "    </tr>\n",
              "    <tr>\n",
              "      <th>4</th>\n",
              "      <td>6</td>\n",
              "      <td>4 0 0 0 0 0 0 0 0 0 0 0 3 15 23 28 48 50 58 84...</td>\n",
              "      <td>Training</td>\n",
              "    </tr>\n",
              "    <tr>\n",
              "      <th>5</th>\n",
              "      <td>2</td>\n",
              "      <td>55 55 55 55 55 54 60 68 54 85 151 163 170 179 ...</td>\n",
              "      <td>Training</td>\n",
              "    </tr>\n",
              "    <tr>\n",
              "      <th>6</th>\n",
              "      <td>4</td>\n",
              "      <td>20 17 19 21 25 38 42 42 46 54 56 62 63 66 82 1...</td>\n",
              "      <td>Training</td>\n",
              "    </tr>\n",
              "    <tr>\n",
              "      <th>7</th>\n",
              "      <td>3</td>\n",
              "      <td>77 78 79 79 78 75 60 55 47 48 58 73 77 79 57 5...</td>\n",
              "      <td>Training</td>\n",
              "    </tr>\n",
              "    <tr>\n",
              "      <th>8</th>\n",
              "      <td>3</td>\n",
              "      <td>85 84 90 121 101 102 133 153 153 169 177 189 1...</td>\n",
              "      <td>Training</td>\n",
              "    </tr>\n",
              "    <tr>\n",
              "      <th>9</th>\n",
              "      <td>2</td>\n",
              "      <td>255 254 255 254 254 179 122 107 95 124 149 150...</td>\n",
              "      <td>Training</td>\n",
              "    </tr>\n",
              "    <tr>\n",
              "      <th>10</th>\n",
              "      <td>0</td>\n",
              "      <td>30 24 21 23 25 25 49 67 84 103 120 125 130 139...</td>\n",
              "      <td>Training</td>\n",
              "    </tr>\n",
              "    <tr>\n",
              "      <th>11</th>\n",
              "      <td>6</td>\n",
              "      <td>39 75 78 58 58 45 49 48 103 156 81 45 41 38 49...</td>\n",
              "      <td>Training</td>\n",
              "    </tr>\n",
              "    <tr>\n",
              "      <th>12</th>\n",
              "      <td>6</td>\n",
              "      <td>219 213 206 202 209 217 216 215 219 218 223 23...</td>\n",
              "      <td>Training</td>\n",
              "    </tr>\n",
              "    <tr>\n",
              "      <th>13</th>\n",
              "      <td>6</td>\n",
              "      <td>148 144 130 129 119 122 129 131 139 153 140 12...</td>\n",
              "      <td>Training</td>\n",
              "    </tr>\n",
              "    <tr>\n",
              "      <th>14</th>\n",
              "      <td>3</td>\n",
              "      <td>4 2 13 41 56 62 67 87 95 62 65 70 80 107 127 1...</td>\n",
              "      <td>Training</td>\n",
              "    </tr>\n",
              "    <tr>\n",
              "      <th>15</th>\n",
              "      <td>5</td>\n",
              "      <td>107 107 109 109 109 109 110 101 123 140 144 14...</td>\n",
              "      <td>Training</td>\n",
              "    </tr>\n",
              "    <tr>\n",
              "      <th>16</th>\n",
              "      <td>3</td>\n",
              "      <td>14 14 18 28 27 22 21 30 42 61 77 86 88 95 100 ...</td>\n",
              "      <td>Training</td>\n",
              "    </tr>\n",
              "    <tr>\n",
              "      <th>17</th>\n",
              "      <td>2</td>\n",
              "      <td>255 255 255 255 255 255 255 255 255 255 255 25...</td>\n",
              "      <td>Training</td>\n",
              "    </tr>\n",
              "    <tr>\n",
              "      <th>18</th>\n",
              "      <td>6</td>\n",
              "      <td>134 124 167 180 197 194 203 210 204 203 209 20...</td>\n",
              "      <td>Training</td>\n",
              "    </tr>\n",
              "    <tr>\n",
              "      <th>19</th>\n",
              "      <td>4</td>\n",
              "      <td>219 192 179 148 208 254 192 98 121 103 145 185...</td>\n",
              "      <td>Training</td>\n",
              "    </tr>\n",
              "  </tbody>\n",
              "</table>\n",
              "</div>"
            ],
            "text/plain": [
              "    emotion                                             pixels     Usage\n",
              "0         0  70 80 82 72 58 58 60 63 54 58 60 48 89 115 121...  Training\n",
              "1         0  151 150 147 155 148 133 111 140 170 174 182 15...  Training\n",
              "2         2  231 212 156 164 174 138 161 173 182 200 106 38...  Training\n",
              "3         4  24 32 36 30 32 23 19 20 30 41 21 22 32 34 21 1...  Training\n",
              "4         6  4 0 0 0 0 0 0 0 0 0 0 0 3 15 23 28 48 50 58 84...  Training\n",
              "5         2  55 55 55 55 55 54 60 68 54 85 151 163 170 179 ...  Training\n",
              "6         4  20 17 19 21 25 38 42 42 46 54 56 62 63 66 82 1...  Training\n",
              "7         3  77 78 79 79 78 75 60 55 47 48 58 73 77 79 57 5...  Training\n",
              "8         3  85 84 90 121 101 102 133 153 153 169 177 189 1...  Training\n",
              "9         2  255 254 255 254 254 179 122 107 95 124 149 150...  Training\n",
              "10        0  30 24 21 23 25 25 49 67 84 103 120 125 130 139...  Training\n",
              "11        6  39 75 78 58 58 45 49 48 103 156 81 45 41 38 49...  Training\n",
              "12        6  219 213 206 202 209 217 216 215 219 218 223 23...  Training\n",
              "13        6  148 144 130 129 119 122 129 131 139 153 140 12...  Training\n",
              "14        3  4 2 13 41 56 62 67 87 95 62 65 70 80 107 127 1...  Training\n",
              "15        5  107 107 109 109 109 109 110 101 123 140 144 14...  Training\n",
              "16        3  14 14 18 28 27 22 21 30 42 61 77 86 88 95 100 ...  Training\n",
              "17        2  255 255 255 255 255 255 255 255 255 255 255 25...  Training\n",
              "18        6  134 124 167 180 197 194 203 210 204 203 209 20...  Training\n",
              "19        4  219 192 179 148 208 254 192 98 121 103 145 185...  Training"
            ]
          },
          "metadata": {},
          "execution_count": 9
        }
      ]
    },
    {
      "cell_type": "code",
      "metadata": {
        "colab": {
          "base_uri": "https://localhost:8080/"
        },
        "id": "8Xp3UKSwRfbL",
        "outputId": "339c6e13-d0a5-437a-9a7b-7b8fb73ca6f7"
      },
      "source": [
        "\n",
        "print(data)"
      ],
      "id": "8Xp3UKSwRfbL",
      "execution_count": 6,
      "outputs": [
        {
          "output_type": "stream",
          "name": "stdout",
          "text": [
            "       emotion                                             pixels        Usage\n",
            "0            0  70 80 82 72 58 58 60 63 54 58 60 48 89 115 121...     Training\n",
            "1            0  151 150 147 155 148 133 111 140 170 174 182 15...     Training\n",
            "2            2  231 212 156 164 174 138 161 173 182 200 106 38...     Training\n",
            "3            4  24 32 36 30 32 23 19 20 30 41 21 22 32 34 21 1...     Training\n",
            "4            6  4 0 0 0 0 0 0 0 0 0 0 0 3 15 23 28 48 50 58 84...     Training\n",
            "...        ...                                                ...          ...\n",
            "35882        6  50 36 17 22 23 29 33 39 34 37 37 37 39 43 48 5...  PrivateTest\n",
            "35883        3  178 174 172 173 181 188 191 194 196 199 200 20...  PrivateTest\n",
            "35884        0  17 17 16 23 28 22 19 17 25 26 20 24 31 19 27 9...  PrivateTest\n",
            "35885        3  30 28 28 29 31 30 42 68 79 81 77 67 67 71 63 6...  PrivateTest\n",
            "35886        2  19 13 14 12 13 16 21 33 50 57 71 84 97 108 122...  PrivateTest\n",
            "\n",
            "[35887 rows x 3 columns]\n"
          ]
        }
      ]
    },
    {
      "cell_type": "code",
      "metadata": {
        "id": "E8Vw6cawRfsI"
      },
      "source": [
        "X_train = []\n",
        "X_test = []\n",
        "y_train = []\n",
        "y_test =  []\n",
        "\n",
        "for index,row in data.iterrows():\n",
        "  k = row['pixels'].split(\" \")\n",
        "  k = list(map(int, k))\n",
        "  if row['Usage'] == 'Training':\n",
        "    X_train.append(np.array(k))\n",
        "    y_train.append(row['emotion'])\n",
        "  elif row['Usage'] == 'PublicTest':\n",
        "    X_test.append(np.array(k))\n",
        "    y_test.append(row['emotion'])"
      ],
      "id": "E8Vw6cawRfsI",
      "execution_count": 10,
      "outputs": []
    },
    {
      "cell_type": "code",
      "metadata": {
        "id": "Cc8RM2SddmeQ"
      },
      "source": [
        "\n",
        "X_train = np.array(X_train)\n",
        "y_train = np.array(y_train)\n",
        "X_test = np.array(X_test)\n",
        "y_test = np.array(y_test)\n",
        "\n",
        "X_train = X_train.reshape(X_train.shape[0],48,48,1)\n",
        "X_test = X_test.reshape(X_test.shape[0],48,48,1)"
      ],
      "id": "Cc8RM2SddmeQ",
      "execution_count": 11,
      "outputs": []
    },
    {
      "cell_type": "code",
      "metadata": {
        "id": "7ICJfoAbfvle"
      },
      "source": [
        "X_train"
      ],
      "id": "7ICJfoAbfvle",
      "execution_count": null,
      "outputs": []
    },
    {
      "cell_type": "code",
      "metadata": {
        "id": "qn9qLr6CjYVX"
      },
      "source": [
        "X_test"
      ],
      "id": "qn9qLr6CjYVX",
      "execution_count": null,
      "outputs": []
    },
    {
      "cell_type": "code",
      "metadata": {
        "id": "VmQQonQCePEj"
      },
      "source": [
        "X_train.shape"
      ],
      "id": "VmQQonQCePEj",
      "execution_count": null,
      "outputs": []
    },
    {
      "cell_type": "code",
      "metadata": {
        "colab": {
          "base_uri": "https://localhost:8080/"
        },
        "id": "WVMQfUoGFhW9",
        "outputId": "feef0097-7c36-4e0b-9128-c152e4e15376"
      },
      "source": [
        "X_test.shape"
      ],
      "id": "WVMQfUoGFhW9",
      "execution_count": null,
      "outputs": [
        {
          "output_type": "execute_result",
          "data": {
            "text/plain": [
              "(3589, 2304)"
            ]
          },
          "metadata": {},
          "execution_count": 12
        }
      ]
    },
    {
      "cell_type": "code",
      "metadata": {
        "id": "jr_HsWb_FB5X"
      },
      "source": [
        "Xtrain = X_train\n",
        "Xtest= X_test"
      ],
      "id": "jr_HsWb_FB5X",
      "execution_count": null,
      "outputs": []
    },
    {
      "cell_type": "code",
      "metadata": {
        "id": "eaGLyZe8Hvzp"
      },
      "source": [
        "X_train = X_train.reshape(X_train.shape[0],48,48,1)\n",
        "X_test = X_test.reshape(X_test.shape[0],48,48,1)"
      ],
      "id": "eaGLyZe8Hvzp",
      "execution_count": null,
      "outputs": []
    },
    {
      "cell_type": "code",
      "metadata": {
        "colab": {
          "base_uri": "https://localhost:8080/"
        },
        "id": "NMrSGt_XCoEl",
        "outputId": "201a6564-c603-4cd4-98bd-719e2ef04e83"
      },
      "source": [
        "X_train.shape"
      ],
      "id": "NMrSGt_XCoEl",
      "execution_count": null,
      "outputs": [
        {
          "output_type": "execute_result",
          "data": {
            "text/plain": [
              "(28709, 48, 48, 1)"
            ]
          },
          "metadata": {},
          "execution_count": 15
        }
      ]
    },
    {
      "cell_type": "code",
      "metadata": {
        "colab": {
          "base_uri": "https://localhost:8080/"
        },
        "id": "b--FrBg1CryM",
        "outputId": "8b838247-b11c-4475-dac0-0eb9a83a4f30"
      },
      "source": [
        "X_test.shape"
      ],
      "id": "b--FrBg1CryM",
      "execution_count": null,
      "outputs": [
        {
          "output_type": "execute_result",
          "data": {
            "text/plain": [
              "(3589, 48, 48, 1)"
            ]
          },
          "metadata": {},
          "execution_count": 16
        }
      ]
    },
    {
      "cell_type": "code",
      "metadata": {
        "colab": {
          "base_uri": "https://localhost:8080/"
        },
        "id": "-i40mmxsbG_6",
        "outputId": "f86de5d1-deb0-4c65-b51d-e39506df0c0c"
      },
      "source": [
        "y_train"
      ],
      "id": "-i40mmxsbG_6",
      "execution_count": null,
      "outputs": [
        {
          "output_type": "execute_result",
          "data": {
            "text/plain": [
              "array([0, 0, 2, ..., 4, 0, 4])"
            ]
          },
          "metadata": {},
          "execution_count": 17
        }
      ]
    },
    {
      "cell_type": "code",
      "metadata": {
        "colab": {
          "base_uri": "https://localhost:8080/"
        },
        "id": "LLfVaQwoe5ZI",
        "outputId": "d344e8ec-1634-4bc5-db4c-df5e51d3b221"
      },
      "source": [
        "y_train[:7]"
      ],
      "id": "LLfVaQwoe5ZI",
      "execution_count": null,
      "outputs": [
        {
          "output_type": "execute_result",
          "data": {
            "text/plain": [
              "array([0, 0, 2, 4, 6, 2, 4])"
            ]
          },
          "metadata": {},
          "execution_count": 18
        }
      ]
    },
    {
      "cell_type": "code",
      "metadata": {
        "id": "icIRPo4tfFw9"
      },
      "source": [
        "from keras.models import Sequential\n",
        "from keras.layers.core import Flatten, Dense, Dropout\n",
        "from keras.layers.convolutional import Convolution2D, MaxPooling2D, ZeroPadding2D\n",
        "from tensorflow.keras.optimizers import SGD"
      ],
      "id": "icIRPo4tfFw9",
      "execution_count": null,
      "outputs": []
    },
    {
      "cell_type": "code",
      "metadata": {
        "id": "shxIiXe1neXC"
      },
      "source": [
        "#y_train= tf.keras.utils.to_categorical(y_train, num_classes=7)\n",
        "#y_test = tf.keras.utils.to_categorical(y_test, num_classes=7)"
      ],
      "id": "shxIiXe1neXC",
      "execution_count": null,
      "outputs": []
    },
    {
      "cell_type": "code",
      "metadata": {
        "id": "GCcuAF4unkha"
      },
      "source": [
        "#y_train[:7]"
      ],
      "id": "GCcuAF4unkha",
      "execution_count": null,
      "outputs": []
    },
    {
      "cell_type": "code",
      "metadata": {
        "id": "kXArptYLGQZY"
      },
      "source": [
        "#ytrain = np.argmax(y_train, axis=1)\n",
        "#ytest = np.argmax(y_test, axis=1)"
      ],
      "id": "kXArptYLGQZY",
      "execution_count": null,
      "outputs": []
    },
    {
      "cell_type": "code",
      "metadata": {
        "id": "wsZ9XYy3Ex8i",
        "colab": {
          "base_uri": "https://localhost:8080/"
        },
        "outputId": "bc825000-957a-48fe-a0e4-d39e068371a8"
      },
      "source": [
        "Xtrain.shape"
      ],
      "id": "wsZ9XYy3Ex8i",
      "execution_count": null,
      "outputs": [
        {
          "output_type": "execute_result",
          "data": {
            "text/plain": [
              "(28709, 2304)"
            ]
          },
          "metadata": {},
          "execution_count": 32
        }
      ]
    },
    {
      "cell_type": "code",
      "metadata": {
        "id": "6QlxCzDCAJRR"
      },
      "source": [
        "from tensorflow import keras\n",
        "from tensorflow.keras import datasets,layers,models"
      ],
      "id": "6QlxCzDCAJRR",
      "execution_count": null,
      "outputs": []
    },
    {
      "cell_type": "code",
      "metadata": {
        "id": "LyDIvDYU-hRt",
        "colab": {
          "base_uri": "https://localhost:8080/",
          "height": 231
        },
        "outputId": "7694aee9-cb2c-4220-9b01-8e338e81abfb"
      },
      "source": [
        "ann = keras.Sequential([\n",
        "                        keras.layers.Flatten(input_shape =(48,48,1)),\n",
        "                        keras.layers.Dense(3000,activation = 'relu'),\n",
        "                        keras.layers.Dense(1000,activation = 'relu'),\n",
        "                        keras.layers.Dense(7,activation = 'sigmoid')\n",
        "])\n",
        "\n",
        "ann.compile(optimizer= 'adam',\n",
        "            loss = 'sparse_categorical_crossentropy',\n",
        "            metrics = ['accuracy'])\n"
      ],
      "id": "LyDIvDYU-hRt",
      "execution_count": null,
      "outputs": [
        {
          "output_type": "error",
          "ename": "NameError",
          "evalue": "ignored",
          "traceback": [
            "\u001b[0;31m---------------------------------------------------------------------------\u001b[0m",
            "\u001b[0;31mNameError\u001b[0m                                 Traceback (most recent call last)",
            "\u001b[0;32m<ipython-input-37-86e8b5e8ba5e>\u001b[0m in \u001b[0;36m<module>\u001b[0;34m()\u001b[0m\n\u001b[0;32m----> 1\u001b[0;31m ann = keras.Sequential([\n\u001b[0m\u001b[1;32m      2\u001b[0m                         \u001b[0mkeras\u001b[0m\u001b[0;34m.\u001b[0m\u001b[0mlayers\u001b[0m\u001b[0;34m.\u001b[0m\u001b[0mFlatten\u001b[0m\u001b[0;34m(\u001b[0m\u001b[0minput_shape\u001b[0m \u001b[0;34m=\u001b[0m\u001b[0;34m(\u001b[0m\u001b[0;36m48\u001b[0m\u001b[0;34m,\u001b[0m\u001b[0;36m48\u001b[0m\u001b[0;34m,\u001b[0m\u001b[0;36m1\u001b[0m\u001b[0;34m)\u001b[0m\u001b[0;34m)\u001b[0m\u001b[0;34m,\u001b[0m\u001b[0;34m\u001b[0m\u001b[0;34m\u001b[0m\u001b[0m\n\u001b[1;32m      3\u001b[0m                         \u001b[0mkeras\u001b[0m\u001b[0;34m.\u001b[0m\u001b[0mlayers\u001b[0m\u001b[0;34m.\u001b[0m\u001b[0mDense\u001b[0m\u001b[0;34m(\u001b[0m\u001b[0;36m3000\u001b[0m\u001b[0;34m,\u001b[0m\u001b[0mactivation\u001b[0m \u001b[0;34m=\u001b[0m \u001b[0;34m'relu'\u001b[0m\u001b[0;34m)\u001b[0m\u001b[0;34m,\u001b[0m\u001b[0;34m\u001b[0m\u001b[0;34m\u001b[0m\u001b[0m\n\u001b[1;32m      4\u001b[0m                         \u001b[0mkeras\u001b[0m\u001b[0;34m.\u001b[0m\u001b[0mlayers\u001b[0m\u001b[0;34m.\u001b[0m\u001b[0mDense\u001b[0m\u001b[0;34m(\u001b[0m\u001b[0;36m1000\u001b[0m\u001b[0;34m,\u001b[0m\u001b[0mactivation\u001b[0m \u001b[0;34m=\u001b[0m \u001b[0;34m'relu'\u001b[0m\u001b[0;34m)\u001b[0m\u001b[0;34m,\u001b[0m\u001b[0;34m\u001b[0m\u001b[0;34m\u001b[0m\u001b[0m\n\u001b[1;32m      5\u001b[0m                         \u001b[0mkeras\u001b[0m\u001b[0;34m.\u001b[0m\u001b[0mlayers\u001b[0m\u001b[0;34m.\u001b[0m\u001b[0mDense\u001b[0m\u001b[0;34m(\u001b[0m\u001b[0;36m7\u001b[0m\u001b[0;34m,\u001b[0m\u001b[0mactivation\u001b[0m \u001b[0;34m=\u001b[0m \u001b[0;34m'sigmoid'\u001b[0m\u001b[0;34m)\u001b[0m\u001b[0;34m\u001b[0m\u001b[0;34m\u001b[0m\u001b[0m\n",
            "\u001b[0;31mNameError\u001b[0m: name 'keras' is not defined"
          ]
        }
      ]
    },
    {
      "cell_type": "code",
      "metadata": {
        "id": "RLQNfR9L_8lV"
      },
      "source": [
        "ann.fit(X_train,y_train,epochs=5)"
      ],
      "id": "RLQNfR9L_8lV",
      "execution_count": null,
      "outputs": []
    },
    {
      "cell_type": "code",
      "metadata": {
        "id": "qhyTxw9tcAF2"
      },
      "source": [
        "ann.evaluate(X_test,y_test)"
      ],
      "id": "qhyTxw9tcAF2",
      "execution_count": null,
      "outputs": []
    },
    {
      "cell_type": "code",
      "metadata": {
        "id": "xZofGOfMk88O"
      },
      "source": [
        "cnn = models.Sequential([\n",
        "                         \n",
        "                         #cnn\n",
        "                         layers.Conv2D(filters = 32,kernel_size = (3,3),activation='relu',input_shape = (48,48,1)),\n",
        "                         layers.MaxPooling2D((2,2)),\n",
        "\n",
        "                         layers.Conv2D(filters = 32,kernel_size = (3,3),activation='relu',input_shape = (48,48,1)),\n",
        "                         layers.MaxPooling2D((2,2)),\n",
        "\n",
        "                         layers.Conv2D(filters = 32,kernel_size = (3,3),activation='relu',input_shape = (48,48,1)),\n",
        "                         layers.MaxPooling2D((2,2)),\n",
        "\n",
        "                         layers.Conv2D(filters = 32,kernel_size = (3,3),activation='relu',input_shape = (48,48,1)),\n",
        "                         layers.MaxPooling2D((2,2)),\n",
        "                         \n",
        "\n",
        "                         #Dense\n",
        "\n",
        "                         layers.Flatten(),\n",
        "                         layers.Dense(100,activation= 'relu'),\n",
        "                         layers.Dense(7,activation='softmax')\n",
        "\n",
        "\n",
        "\n",
        "\n",
        "])"
      ],
      "id": "xZofGOfMk88O",
      "execution_count": null,
      "outputs": []
    },
    {
      "cell_type": "code",
      "metadata": {
        "id": "IrPrwMeFmcAm"
      },
      "source": [
        "cnn.compile(optimizer= 'adam',\n",
        "            loss = 'sparse_categorical_crossentropy',\n",
        "            metrics = ['accuracy'])"
      ],
      "id": "IrPrwMeFmcAm",
      "execution_count": null,
      "outputs": []
    },
    {
      "cell_type": "code",
      "metadata": {
        "id": "o_9kZPXtmkRH"
      },
      "source": [
        "cnn.fit(X_train,y_train,epochs =10)"
      ],
      "id": "o_9kZPXtmkRH",
      "execution_count": null,
      "outputs": []
    },
    {
      "cell_type": "code",
      "metadata": {
        "id": "jqsaRvjsmoGD"
      },
      "source": [
        "cnn.evaluate(X_test,y_test)"
      ],
      "id": "jqsaRvjsmoGD",
      "execution_count": null,
      "outputs": []
    },
    {
      "cell_type": "code",
      "metadata": {
        "id": "V-vmZcUAu2gR"
      },
      "source": [
        "y_pred = cnn.predict(X_test)\n",
        "y_pred[:5]"
      ],
      "id": "V-vmZcUAu2gR",
      "execution_count": null,
      "outputs": []
    },
    {
      "cell_type": "code",
      "metadata": {
        "id": "TP69Zn8U5mG0"
      },
      "source": [
        "y_classes = [np.argmax(element) for element in y_pred]\n",
        "y_test[:10]"
      ],
      "id": "TP69Zn8U5mG0",
      "execution_count": null,
      "outputs": []
    },
    {
      "cell_type": "code",
      "metadata": {
        "id": "SnwnVc3u58nY"
      },
      "source": [
        "from sklearn.metrics import confusion_matrix,classification_report"
      ],
      "id": "SnwnVc3u58nY",
      "execution_count": null,
      "outputs": []
    },
    {
      "cell_type": "code",
      "metadata": {
        "id": "weNRzvaB5yTA"
      },
      "source": [
        "print(\"classificaton Report: \\n\",classification_report(y_test,y_classes))"
      ],
      "id": "weNRzvaB5yTA",
      "execution_count": null,
      "outputs": []
    },
    {
      "cell_type": "code",
      "metadata": {
        "id": "Gy5ahFmF53YR"
      },
      "source": [
        "cm = tf.math.confusion_matrix(labels = y_test,predictions = y_classes)\n",
        "cm"
      ],
      "id": "Gy5ahFmF53YR",
      "execution_count": null,
      "outputs": []
    },
    {
      "cell_type": "code",
      "metadata": {
        "id": "RBzd0PObUwQN"
      },
      "source": [
        "import seaborn as sns\n",
        "plt.figure(figsize = (10,7))\n",
        "sns.heatmap(cm,annot = True,fmt = 'd')\n",
        "plt.xlabel('Predicted')\n",
        "plt.ylabel('Truth')"
      ],
      "id": "RBzd0PObUwQN",
      "execution_count": null,
      "outputs": []
    },
    {
      "cell_type": "code",
      "metadata": {
        "id": "fLwY-wsuXrtf"
      },
      "source": [
        "from tensorflow.keras.models import Model\n",
        "from tensorflow.keras.models import load_model"
      ],
      "id": "fLwY-wsuXrtf",
      "execution_count": null,
      "outputs": []
    },
    {
      "cell_type": "code",
      "metadata": {
        "id": "hLNQ4rk1IPoz"
      },
      "source": [
        "model = cnn()"
      ],
      "id": "hLNQ4rk1IPoz",
      "execution_count": null,
      "outputs": []
    },
    {
      "cell_type": "code",
      "metadata": {
        "id": "6gBqRj5RZuzt"
      },
      "source": [
        ""
      ],
      "id": "6gBqRj5RZuzt",
      "execution_count": null,
      "outputs": []
    }
  ]
}