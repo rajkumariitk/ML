{
  "nbformat": 4,
  "nbformat_minor": 0,
  "metadata": {
    "colab": {
      "name": "DL19.ipynb",
      "provenance": [],
      "authorship_tag": "ABX9TyMwcQbda9wpoRkmOe5hCDUS",
      "include_colab_link": true
    },
    "kernelspec": {
      "name": "python3",
      "display_name": "Python 3"
    },
    "language_info": {
      "name": "python"
    }
  },
  "cells": [
    {
      "cell_type": "markdown",
      "metadata": {
        "id": "view-in-github",
        "colab_type": "text"
      },
      "source": [
        "<a href=\"https://colab.research.google.com/github/rjkryv/ML/blob/main/DL19.ipynb\" target=\"_parent\"><img src=\"https://colab.research.google.com/assets/colab-badge.svg\" alt=\"Open In Colab\"/></a>"
      ]
    },
    {
      "cell_type": "code",
      "metadata": {
        "id": "NK7E-bJu-4nh"
      },
      "source": [
        ""
      ],
      "execution_count": null,
      "outputs": []
    },
    {
      "cell_type": "markdown",
      "metadata": {
        "id": "2wbM-uUU_B1T"
      },
      "source": [
        "## For Precision think about **prediction** as your base\n",
        "\n",
        "## For recall think about **truth** as your base "
      ]
    },
    {
      "cell_type": "code",
      "metadata": {
        "id": "We1Pd9ve_SC4"
      },
      "source": [
        "# **precision and recall is for individual class**\n"
      ],
      "execution_count": 2,
      "outputs": []
    },
    {
      "cell_type": "code",
      "metadata": {
        "id": "bpmLvUX2_ZHc"
      },
      "source": [
        ""
      ],
      "execution_count": null,
      "outputs": []
    },
    {
      "cell_type": "markdown",
      "metadata": {
        "id": "UJ0l0dan_gAx"
      },
      "source": [
        "# **precision and recall is for individual class**\n"
      ]
    },
    {
      "cell_type": "code",
      "metadata": {
        "id": "BH30jhvc_iRD"
      },
      "source": [
        ""
      ],
      "execution_count": null,
      "outputs": []
    },
    {
      "cell_type": "markdown",
      "metadata": {
        "id": "jlVTT2L-_5IU"
      },
      "source": [
        "# **F1 score** = 2 * ( precision * recall ) / (precision + recall)"
      ]
    },
    {
      "cell_type": "code",
      "metadata": {
        "id": "IyuQ3dDBBBci"
      },
      "source": [
        ""
      ],
      "execution_count": null,
      "outputs": []
    }
  ]
}